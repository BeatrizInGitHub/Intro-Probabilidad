{
 "cells": [
  {
   "cell_type": "code",
   "execution_count": 2,
   "metadata": {
    "collapsed": true
   },
   "outputs": [],
   "source": [
    "# Estos dos comandos evitan que haya que hacer reload cada vez que se modifica un paquete\n",
    "%load_ext autoreload\n",
    "%autoreload 2"
   ]
  },
  {
   "cell_type": "code",
   "execution_count": 12,
   "metadata": {
    "collapsed": true
   },
   "outputs": [],
   "source": [
    "import numpy as np\n",
    "from matplotlib import pyplot as plt\n",
    "\n",
    "# Importo el paquete para graficar\n",
    "from matplotlib import pyplot as plt\n",
    "\n",
    "def plot_bar_chart(P, indexes=None, index_str='$P(S=%s)$' ,title='Función de masa de probabilidad de la posición del robot: $P(S=k)$'):\n",
    "    N = len(P)\n",
    "    if indexes is None:\n",
    "        indexes = np.linspace(1, N, N, dtype = int) # Desde, Hasta, Cantidad, Tipo\n",
    "    plt.figure(figsize=(20, 5)) # Tamaño del gráfico\n",
    "    plt.bar(indexes, P, width=0.75, color='b') # Grafico\n",
    "    plt.title(title)\n",
    "\n",
    "    # Definición de indices\n",
    "    string_indexes = [index_str%i for i in indexes]\n",
    "    plt.xlim([0,N+1])\n",
    "    plt.xticks(indexes, string_indexes) \n",
    "    plt.xticks(rotation=60)\n",
    "    plt.show()"
   ]
  },
  {
   "cell_type": "markdown",
   "metadata": {},
   "source": [
    "# Naive bayes\n",
    "http://scikit-learn.org/stable/modules/naive_bayes.html#naive-bayes"
   ]
  },
  {
   "cell_type": "markdown",
   "metadata": {},
   "source": [
    "$P(y|x_1,x_2,...,x_n) = \\large \\frac{P(y)P(x_1, x_2,...,x_n|y)}{P(x_1,x_2,...,x_n)} = \\frac{P(y, x_1, x_2,...,x_n)}{P(x_1,x_2,...,x_n)}$"
   ]
  },
  {
   "cell_type": "markdown",
   "metadata": {},
   "source": [
    "$P(x_1,x_2, x_3, y) = P(x_1 | x_2, x_3,y)P(x_2,x_3, y) = P(x_1 | x_2, x_3,y)P(x_2|x_3, y)P(x_3, y) = P(x_1 | x_2, x_3,y)P(x_2|x_3, y)P(x_3| y)P(y)$"
   ]
  },
  {
   "cell_type": "markdown",
   "metadata": {},
   "source": [
    "$P(comprar,oferta,ganaste,SPAM) = P(comprar | oferta, ganaste,SPAM)P(oferta|ganaste, SPAM)P(ganaste| SPAM)P(SPAM)$"
   ]
  },
  {
   "cell_type": "markdown",
   "metadata": {},
   "source": [
    "Asumiendo independencia\n",
    "\n",
    "$P(x_i/y) = P(x_i|y,x_1,...)$\n",
    "\n",
    "$P(comprar,oferta,ganaste,SPAM) = P(comprar | SPAM)P(oferta|SPAM)P(ganaste| SPAM)P(SPAM)$\n",
    "\n",
    "$P(y|x_1,x_2,...,x_n) = \\large \\frac{P(y)\\prod P(x_i/y)} {P(x_1,x_2,...,x_n)} = \\alpha {P(y)\\prod P(x_i/y)}$"
   ]
  },
  {
   "cell_type": "markdown",
   "metadata": {},
   "source": [
    "$\\hat{y} = arg max_y [{P(y)\\prod P(x_i/y)}]$"
   ]
  },
  {
   "cell_type": "markdown",
   "metadata": {},
   "source": [
    "## Detección de SPAM\n",
    "V. Metsis, I. Androutsopoulos and G. Paliouras (2006). Spam filtering with Naive Bayes – Which Naive Bayes? 3rd Conf. on Email and Anti-Spam (CEAS).\n",
    "http://citeseerx.ist.psu.edu/viewdoc/download;jsessionid=1EEA3C5EE5DDF8409BCC0F09BFB7D98B?doi=10.1.1.61.5542&rep=rep1&type=pdf\n",
    "\n",
    "Tenemos un dataset donde ya esta preprocesado el texto\n",
    "- Lemmatization\n",
    "- Stop words"
   ]
  },
  {
   "cell_type": "code",
   "execution_count": 13,
   "metadata": {
    "collapsed": true
   },
   "outputs": [],
   "source": [
    "from sklearn.feature_extraction.text import CountVectorizer"
   ]
  },
  {
   "cell_type": "code",
   "execution_count": 14,
   "metadata": {
    "collapsed": true
   },
   "outputs": [],
   "source": [
    "import os\n",
    "from collections import Counter\n",
    "def make_Dictionary(train_dir):\n",
    "    emails_array = []\n",
    "    labels = []\n",
    "    emails = [os.path.join(train_dir,f) for f in os.listdir(train_dir)]    \n",
    "    all_words = []       \n",
    "    for mail in emails:    \n",
    "        with open(mail) as m:\n",
    "            if 'spmsg' in mail.split('/')[-1]:\n",
    "                labels.append(True)\n",
    "            else:\n",
    "                labels.append(False)\n",
    "            email_str = ''\n",
    "            for i,line in enumerate(m):\n",
    "                if i == 2:  #Body of email is only 3rd line of text file\n",
    "                    words = line.split()\n",
    "                    all_words += words\n",
    "                    email_str = email_str + ' ' + line\n",
    "            emails_array.append(email_str)\n",
    "    dictionary = Counter(all_words)\n",
    "    # Paste code for non-word removal here(code snippet is given below) \n",
    "    return dictionary, emails_array, labels\n",
    "\n",
    "def remove_uncommon_words(dictionary):\n",
    "    dict_copy = { k : v for k,v in dictionary.items()}\n",
    "    list_to_remove = dictionary.keys()\n",
    "\n",
    "    for item in list_to_remove:\n",
    "        if item.isalpha() == False: \n",
    "            del dict_copy[item]\n",
    "        elif len(item) == 1:\n",
    "            del dict_copy[item]\n",
    "    return Counter(dict_copy)"
   ]
  },
  {
   "cell_type": "code",
   "execution_count": 15,
   "metadata": {
    "collapsed": true
   },
   "outputs": [],
   "source": [
    "def read_emails_and_get_dict(folder, max_features=3000):\n",
    "    dictionary, emails_array, labels = make_Dictionary(folder)\n",
    "    dictionary = remove_uncommon_words(dictionary)\n",
    "    dictionary = dictionary.most_common(max_features)\n",
    "    vocabulary = [key[0] for key in dictionary]\n",
    "    return vocabulary, emails_array, np.array(labels)"
   ]
  },
  {
   "cell_type": "code",
   "execution_count": 16,
   "metadata": {
    "collapsed": true
   },
   "outputs": [],
   "source": [
    "max_features = 3000"
   ]
  },
  {
   "cell_type": "code",
   "execution_count": 17,
   "metadata": {
    "collapsed": true
   },
   "outputs": [],
   "source": [
    "vocabulary, emails_array, labels = read_emails_and_get_dict('./ling-spam/train-mails', max_features)\n",
    "count_vectorizer = CountVectorizer(vocabulary=vocabulary)\n",
    "feature_matrix = count_vectorizer.fit_transform(emails_array)"
   ]
  },
  {
   "cell_type": "code",
   "execution_count": 18,
   "metadata": {},
   "outputs": [
    {
     "name": "stdout",
     "output_type": "stream",
     "text": [
      "SPAM: 351 HAM: 351 total: 702\n",
      "\n",
      "Palabras diferentes\n",
      "SPAM: 49238 HAM: 33252\n",
      "\n",
      "Cantidad de palabras\n",
      "SPAM: 98131 HAM: 56860\n"
     ]
    }
   ],
   "source": [
    "def get_histogram_from_matrix(alpha, feature_matrix):\n",
    "    words_distribution_un = feature_matrix.sum(axis=0) + alpha\n",
    "    words_distribution = words_distribution_un/(words_distribution_un.sum()+alpha*feature_matrix.shape[1])\n",
    "    return words_distribution\n",
    "\n",
    "spam_feature_matrix = feature_matrix[labels,:]\n",
    "ham_feature_matrix = feature_matrix[np.logical_not(labels),:]\n",
    "\n",
    "print('SPAM:',labels.nonzero()[0].shape[0],\n",
    "      'HAM:',np.logical_not(labels).nonzero()[0].shape[0],\n",
    "      'total:',len(labels))\n",
    "\n",
    "print()\n",
    "print('Palabras diferentes')\n",
    "print('SPAM:', spam_feature_matrix.nonzero()[0].shape[0],\n",
    "      'HAM:',ham_feature_matrix.nonzero()[0].shape[0])\n",
    "\n",
    "print()\n",
    "print('Cantidad de palabras')\n",
    "print('SPAM:',spam_feature_matrix.sum(), 'HAM:',ham_feature_matrix.sum())\n",
    "\n",
    "\n",
    "\n",
    "spam_words_distribution = get_histogram_from_matrix(1, spam_feature_matrix)\n",
    "ham_words_distribution = get_histogram_from_matrix(1, ham_feature_matrix)"
   ]
  },
  {
   "cell_type": "code",
   "execution_count": 19,
   "metadata": {},
   "outputs": [
    {
     "data": {
      "image/png": "[encoded data removed]",
      "text/plain": [
       "<matplotlib.figure.Figure at 0x116932390>"
      ]
     },
     "metadata": {},
     "output_type": "display_data"
    },
    {
     "data": {
      "image/png": "[encoded data removed]",
      "text/plain": [
       "<matplotlib.figure.Figure at 0x11697ea90>"
      ]
     },
     "metadata": {},
     "output_type": "display_data"
    }
   ],
   "source": [
    "N = 20\n",
    "plot_bar_chart(np.array(spam_words_distribution)[0][:N], title='SPAM', index_str='%s')\n",
    "plot_bar_chart(np.array(ham_words_distribution)[0][:N], title='HAM', index_str='%s')"
   ]
  },
  {
   "cell_type": "markdown",
   "metadata": {},
   "source": [
    "$\\hat{y} = arg max_y [{P(y)\\prod P(x_i/y)}]$\n",
    "\n",
    "$y = [SPAM, HAM]$"
   ]
  },
  {
   "cell_type": "code",
   "execution_count": 20,
   "metadata": {},
   "outputs": [
    {
     "name": "stdout",
     "output_type": "stream",
     "text": [
      "  (0, 5)\t1\n",
      "  (0, 9)\t1\n",
      "  (0, 11)\t4\n",
      "  (0, 22)\t1\n",
      "  (0, 37)\t1\n",
      "  (0, 42)\t1\n",
      "  (0, 47)\t1\n",
      "  (0, 51)\t1\n",
      "  (0, 59)\t1\n",
      "  (0, 116)\t1\n",
      "  (0, 118)\t1\n",
      "  (0, 140)\t1\n",
      "  (0, 143)\t1\n",
      "  (0, 209)\t1\n",
      "  (0, 260)\t1\n",
      "  (0, 274)\t1\n",
      "  (0, 291)\t1\n",
      "  (0, 299)\t1\n",
      "  (0, 318)\t3\n",
      "  (0, 337)\t1\n",
      "  (0, 380)\t1\n",
      "  (0, 384)\t1\n",
      "  (0, 436)\t1\n",
      "  (0, 461)\t1\n",
      "  (0, 471)\t2\n",
      "  (0, 481)\t3\n",
      "  (0, 611)\t1\n",
      "  (0, 651)\t2\n",
      "  (0, 699)\t1\n",
      "  (0, 704)\t1\n",
      "  (0, 934)\t1\n",
      "  (0, 954)\t1\n",
      "  (0, 955)\t2\n",
      "  (0, 979)\t1\n",
      "  (0, 1037)\t1\n",
      "  (0, 1047)\t1\n",
      "  (0, 1233)\t2\n",
      "  (0, 1499)\t1\n",
      "  (0, 1575)\t1\n",
      "  (0, 1645)\t1\n",
      "  (0, 1684)\t1\n",
      "  (0, 1750)\t1\n",
      "  (0, 2116)\t1\n",
      "  (0, 2271)\t1\n",
      "  (0, 2456)\t1\n",
      "  (0, 2816)\t3\n",
      "(array([0, 0, 0, 0, 0, 0, 0, 0, 0, 0, 0, 0, 0, 0, 0, 0, 0, 0, 0, 0, 0, 0, 0,\n",
      "       0, 0, 0, 0, 0, 0, 0, 0, 0, 0, 0, 0, 0, 0, 0, 0, 0, 0, 0, 0, 0, 0, 0], dtype=int32), array([   5,    9,   11,   22,   37,   42,   47,   51,   59,  116,  118,\n",
      "        140,  143,  209,  260,  274,  291,  299,  318,  337,  380,  384,\n",
      "        436,  461,  471,  481,  611,  651,  699,  704,  934,  954,  955,\n",
      "        979, 1037, 1047, 1233, 1499, 1575, 1645, 1684, 1750, 2116, 2271,\n",
      "       2456, 2816], dtype=int32))\n",
      "6.9753386833e-258\n",
      "2.45297085369e-271\n",
      "-592.124573109\n",
      "-623.103260318\n"
     ]
    }
   ],
   "source": [
    "row = feature_matrix[0,:]\n",
    "print(row)\n",
    "non_zero_row = row.nonzero()\n",
    "print(non_zero_row)\n",
    "print(spam_words_distribution[0, non_zero_row].prod())\n",
    "print(ham_words_distribution[0, non_zero_row].prod())\n",
    "print(np.log(spam_words_distribution[0, non_zero_row]).sum())\n",
    "print(np.log(ham_words_distribution[0, non_zero_row]).sum())"
   ]
  },
  {
   "cell_type": "code",
   "execution_count": 21,
   "metadata": {
    "collapsed": true
   },
   "outputs": [],
   "source": [
    "def get_accuracy(feature_matrix, labels, spam_words_distribution, ham_words_distribution):\n",
    "    P_SPAM = labels.nonzero()[0].shape[0]/len(labels) # Por que no es necesario en este caso?\n",
    "    P_HAM = np.logical_not(labels).nonzero()[0].shape[0]/len(labels) # Por que no es necesario en este caso?\n",
    "    correct_count = 0\n",
    "    smooth = 0.0000000000001\n",
    "    for i, row in enumerate(feature_matrix):\n",
    "        coded_email = row.nonzero()\n",
    "        spam_log_likelihood = np.log(spam_words_distribution[coded_email]).sum() + np.log(P_SPAM)\n",
    "        ham_log_likelihood = np.log(ham_words_distribution[coded_email]).sum() + np.log(P_HAM)\n",
    "        SPAM = spam_log_likelihood>ham_log_likelihood\n",
    "        if SPAM == labels[i]:\n",
    "            correct_count = correct_count + 1\n",
    "    print('%0.3f'%(correct_count/len(labels)))"
   ]
  },
  {
   "cell_type": "code",
   "execution_count": 22,
   "metadata": {},
   "outputs": [
    {
     "name": "stdout",
     "output_type": "stream",
     "text": [
      "0.989\n"
     ]
    }
   ],
   "source": [
    "get_accuracy(feature_matrix, labels, spam_words_distribution, ham_words_distribution)"
   ]
  },
  {
   "cell_type": "markdown",
   "metadata": {},
   "source": [
    "## Test set"
   ]
  },
  {
   "cell_type": "code",
   "execution_count": 23,
   "metadata": {
    "collapsed": true
   },
   "outputs": [],
   "source": [
    "_, emails_array, labels_test = read_emails_and_get_dict('./ling-spam/test-mails', max_features)\n",
    "count_vectorizer_test = CountVectorizer(vocabulary=vocabulary)\n",
    "feature_matrix_test = count_vectorizer.fit_transform(emails_array)"
   ]
  },
  {
   "cell_type": "code",
   "execution_count": 24,
   "metadata": {},
   "outputs": [
    {
     "name": "stdout",
     "output_type": "stream",
     "text": [
      "0.965\n"
     ]
    }
   ],
   "source": [
    "get_accuracy(feature_matrix_test, labels_test, spam_words_distribution, ham_words_distribution)"
   ]
  },
  {
   "cell_type": "markdown",
   "metadata": {},
   "source": [
    "# sklearn"
   ]
  },
  {
   "cell_type": "code",
   "execution_count": 25,
   "metadata": {
    "collapsed": true
   },
   "outputs": [],
   "source": [
    "from sklearn.naive_bayes import MultinomialNB"
   ]
  },
  {
   "cell_type": "code",
   "execution_count": 26,
   "metadata": {
    "collapsed": true
   },
   "outputs": [],
   "source": [
    "clf = MultinomialNB(alpha=1)"
   ]
  },
  {
   "cell_type": "code",
   "execution_count": 27,
   "metadata": {},
   "outputs": [
    {
     "data": {
      "text/plain": [
       "MultinomialNB(alpha=1, class_prior=None, fit_prior=True)"
      ]
     },
     "execution_count": 27,
     "metadata": {},
     "output_type": "execute_result"
    }
   ],
   "source": [
    "clf.fit(feature_matrix, labels)"
   ]
  },
  {
   "cell_type": "code",
   "execution_count": 28,
   "metadata": {},
   "outputs": [
    {
     "data": {
      "text/plain": [
       "0.99002849002849003"
      ]
     },
     "execution_count": 28,
     "metadata": {},
     "output_type": "execute_result"
    }
   ],
   "source": [
    "clf.score(feature_matrix, labels)"
   ]
  },
  {
   "cell_type": "code",
   "execution_count": 29,
   "metadata": {},
   "outputs": [
    {
     "data": {
      "text/plain": [
       "0.96153846153846156"
      ]
     },
     "execution_count": 29,
     "metadata": {},
     "output_type": "execute_result"
    }
   ],
   "source": [
    "clf.score(feature_matrix_test, labels_test)"
   ]
  },
  {
   "cell_type": "markdown",
   "metadata": {},
   "source": [
    "# ¿Es posible graficar un problema de dimensión 3000 en 2 dimensiones?"
   ]
  },
  {
   "cell_type": "code",
   "execution_count": 30,
   "metadata": {
    "collapsed": true
   },
   "outputs": [],
   "source": [
    "from sklearn.manifold import TSNE\n",
    "from sklearn.decomposition import TruncatedSVD\n",
    "fmd = feature_matrix.todense()\n",
    "svd = TruncatedSVD(n_components=8, n_iter=200, random_state=42)\n",
    "svd.fit(fmd.T)\n",
    "X_embedded = TSNE(n_components=2).fit_transform(svd.components_.T)"
   ]
  },
  {
   "cell_type": "code",
   "execution_count": 31,
   "metadata": {},
   "outputs": [
    {
     "data": {
      "image/png": "[encoded data removed]",
      "text/plain": [
       "<matplotlib.figure.Figure at 0x116a1dc18>"
      ]
     },
     "metadata": {},
     "output_type": "display_data"
    }
   ],
   "source": [
    "plt.figure(figsize=(20,10))\n",
    "plt.scatter(X_embedded[labels,0], X_embedded[labels,1], color='b', s=10)\n",
    "plt.scatter(X_embedded[np.logical_not(labels),0], X_embedded[np.logical_not(labels),1], color='r', s=10)\n",
    "plt.show()"
   ]
  },
  {
   "cell_type": "markdown",
   "metadata": {},
   "source": [
    "# Gaussian NB\n",
    "https://en.wikipedia.org/wiki/Naive_Bayes_classifier#Sex_classification"
   ]
  },
  {
   "cell_type": "code",
   "execution_count": 32,
   "metadata": {
    "collapsed": true
   },
   "outputs": [],
   "source": [
    "# Datos originales de wikipedia\n",
    "data = [\n",
    "    {\"genero\":'hombre', 'altura': 6, 'peso': 180,'pie':12}, \n",
    "    {\"genero\":'hombre', 'altura': 5.92, 'peso': 190,'pie':11}, \n",
    "    {\"genero\":'hombre', 'altura': 5.58, 'peso': 170,'pie':12}, \n",
    "    {\"genero\":'hombre', 'altura': 5.92, 'peso': 165,'pie':10}, \n",
    "    {\"genero\":'mujer', 'altura': 5, 'peso': 100,'pie':6}, \n",
    "    {\"genero\":'mujer', 'altura': 5.5, 'peso': 150,'pie':8}, \n",
    "    {\"genero\":'mujer', 'altura': 5.42, 'peso': 130,'pie':7}, \n",
    "    {\"genero\":'mujer', 'altura': 5.75, 'peso': 150,'pie':9}, \n",
    "]"
   ]
  },
  {
   "cell_type": "code",
   "execution_count": 33,
   "metadata": {
    "collapsed": true
   },
   "outputs": [],
   "source": [
    "data = [{'altura': 183, 'genero': 'hombre', 'peso': 82, 'pie': 12},\n",
    "         {'altura': 180, 'genero': 'hombre', 'peso': 86, 'pie': 11},\n",
    "         {'altura': 170,'genero': 'hombre','peso': 77,'pie': 12},\n",
    "         {'altura': 180, 'genero': 'hombre', 'peso': 75, 'pie': 10},\n",
    "         {'altura': 152, 'genero': 'mujer', 'peso': 45, 'pie': 6},\n",
    "         {'altura': 167, 'genero': 'mujer', 'peso': 68, 'pie': 8},\n",
    "         {'altura': 165, 'genero': 'mujer', 'peso': 59, 'pie': 7},\n",
    "         {'altura': 175, 'genero': 'mujer', 'peso': 68, 'pie': 9}]"
   ]
  },
  {
   "cell_type": "code",
   "execution_count": 34,
   "metadata": {},
   "outputs": [
    {
     "name": "stdout",
     "output_type": "stream",
     "text": [
      "[[ 0.  0.  0.]\n",
      " [ 0.  0.  0.]\n",
      " [ 0.  0.  0.]\n",
      " [ 0.  0.  0.]\n",
      " [ 0.  0.  0.]\n",
      " [ 0.  0.  0.]\n",
      " [ 0.  0.  0.]\n",
      " [ 0.  0.  0.]]\n",
      "[None None None None None None None None]\n",
      "[[ 183.   82.   12.]\n",
      " [ 180.   86.   11.]\n",
      " [ 170.   77.   12.]\n",
      " [ 180.   75.   10.]\n",
      " [ 152.   45.    6.]\n",
      " [ 167.   68.    8.]\n",
      " [ 165.   59.    7.]\n",
      " [ 175.   68.    9.]]\n",
      "['hombre' 'hombre' 'hombre' 'hombre' 'mujer' 'mujer' 'mujer' 'mujer']\n"
     ]
    }
   ],
   "source": [
    "GNB_features_matrix = np.zeros((len(data),3))\n",
    "GNB_labels = np.empty((len(data)), dtype=object)\n",
    "print(GNB_features_matrix)\n",
    "print(GNB_labels)\n",
    "\n",
    "for i, person in enumerate(data):\n",
    "    GNB_features_matrix[i, 0] = person['altura']\n",
    "    GNB_features_matrix[i, 1] = person['peso']\n",
    "    GNB_features_matrix[i, 2] = person['pie']\n",
    "    GNB_labels[i] = person['genero']\n",
    "print(GNB_features_matrix)\n",
    "print(GNB_labels)"
   ]
  },
  {
   "cell_type": "code",
   "execution_count": 35,
   "metadata": {},
   "outputs": [
    {
     "name": "stdout",
     "output_type": "stream",
     "text": [
      "medias de los hombres: [ 178.25   80.     11.25]\n",
      "varianzas de los hombres: [ 32.25        24.66666667   0.91666667]\n",
      "medias de las mujeres: [ 164.75   60.      7.5 ]\n",
      "varianzas de las mujeres: [  90.91666667  118.            1.66666667]\n"
     ]
    }
   ],
   "source": [
    "men_means = GNB_features_matrix[GNB_labels=='hombre',:].mean(axis=0)\n",
    "women_means = GNB_features_matrix[GNB_labels=='mujer',:].mean(axis=0)\n",
    "men_vars = GNB_features_matrix[GNB_labels=='hombre',:].var(axis=0, ddof=1)\n",
    "women_vars = GNB_features_matrix[GNB_labels=='mujer',:].var(axis=0, ddof=1)\n",
    "print('medias de los hombres:', men_means)\n",
    "print('varianzas de los hombres:', men_vars)\n",
    "print('medias de las mujeres:', women_means)\n",
    "print('varianzas de las mujeres:', women_vars)"
   ]
  },
  {
   "cell_type": "code",
   "execution_count": 36,
   "metadata": {
    "collapsed": true
   },
   "outputs": [],
   "source": [
    "#sample = np.array([6,130,8])\n",
    "sample = np.array([6*30.48,130*0.453592,8])"
   ]
  },
  {
   "cell_type": "code",
   "execution_count": 37,
   "metadata": {
    "collapsed": true
   },
   "outputs": [],
   "source": [
    "def gaussian(x, mu, sig):\n",
    "    return np.exp(-np.power((x - mu)/sig, 2.)/2)/(np.sqrt(2.*np.pi)*sig)\n",
    "\n",
    "def plot_gaussian(mu=0, sig= 1, points = 200, N = 2, marker=None, label = None, x = None, color = None, \n",
    "                  x_label='',y_label='',ax = None, figsize = (20,10), center_label_tick = None):\n",
    "    if ax is None:\n",
    "        f, ax = plt.subplots(1, 1, sharey=True, sharex=True, figsize = figsize)\n",
    "    if x is None:\n",
    "        x = np.linspace(mu-N*sig, mu+N*sig, points)\n",
    "    y = gaussian(x, mu, sig)\n",
    "    ax.plot(x,y, marker = marker, label = label, color = color)\n",
    "    ax.set_ylabel(y_label)\n",
    "    ax.set_xlabel(x_label)\n",
    "\n",
    "    if center_label_tick is not None:\n",
    "        labels = [item.get_text() for item in ax.get_xticklabels()]\n",
    "        labels[int((len(labels)-1)/2)] = center_label_tick\n",
    "        ax.set_xticklabels(labels)\n",
    "\n",
    "    return x, y"
   ]
  },
  {
   "cell_type": "code",
   "execution_count": 38,
   "metadata": {},
   "outputs": [
    {
     "data": {
      "image/png": "[encoded data removed]",
      "text/plain": [
       "<matplotlib.figure.Figure at 0x1169c39b0>"
      ]
     },
     "metadata": {},
     "output_type": "display_data"
    }
   ],
   "source": [
    "f, axs = plt.subplots(3, 1, sharey=False, sharex=False, figsize = (20,8))\n",
    "keys = ['altura', 'peso','pie']\n",
    "for i, ax in enumerate(axs):\n",
    "    plot_gaussian(men_means[i], np.sqrt(men_vars[i]), ax=ax, N=10, color='b', label='hombre')\n",
    "    plot_gaussian(women_means[i], np.sqrt(women_vars[i]), ax=ax, N=4, color='g', label='mujer')\n",
    "    ax.scatter(sample[i], gaussian(sample[i], men_means[i], np.sqrt(men_vars[i])), color='b')\n",
    "    ax.scatter(sample[i], gaussian(sample[i], women_means[i], np.sqrt(women_vars[i])), color='g')\n",
    "    ax.title.set_text(keys[i])\n",
    "    ax.legend()\n",
    "plt.show()"
   ]
  },
  {
   "cell_type": "code",
   "execution_count": 39,
   "metadata": {},
   "outputs": [
    {
     "name": "stdout",
     "output_type": "stream",
     "text": [
      "3.38329394047e-10\n"
     ]
    }
   ],
   "source": [
    "p_hombre = len(GNB_features_matrix[GNB_labels=='hombre',:])/len(GNB_features_matrix)\n",
    "p_altura_hombre = gaussian(sample[0], men_means[0], np.sqrt(men_vars[0]))\n",
    "p_peso_hombre = gaussian(sample[1], men_means[1], np.sqrt(men_vars[1]))\n",
    "p_pie_hombre = gaussian(sample[2], men_means[2], np.sqrt(men_vars[2]))\n",
    "posterior_hombre = p_hombre*p_altura_hombre*p_peso_hombre*p_pie_hombre\n",
    "print(posterior_hombre)"
   ]
  },
  {
   "cell_type": "code",
   "execution_count": 40,
   "metadata": {},
   "outputs": [
    {
     "name": "stdout",
     "output_type": "stream",
     "text": [
      "3.59675362977e-05\n"
     ]
    }
   ],
   "source": [
    "p_mujer = len(GNB_features_matrix[GNB_labels=='hombre',:])/len(GNB_features_matrix)\n",
    "p_altura_mujer = gaussian(sample[0], women_means[0], np.sqrt(women_vars[0]))\n",
    "p_peso_mujer = gaussian(sample[1], women_means[1], np.sqrt(women_vars[1]))\n",
    "p_pie_mujer = gaussian(sample[2], women_means[2], np.sqrt(women_vars[2]))\n",
    "posterior_mujer = p_mujer*p_altura_mujer*p_peso_mujer*p_pie_mujer\n",
    "print(posterior_mujer)"
   ]
  },
  {
   "cell_type": "code",
   "execution_count": 41,
   "metadata": {},
   "outputs": [
    {
     "data": {
      "text/plain": [
       "True"
      ]
     },
     "execution_count": 41,
     "metadata": {},
     "output_type": "execute_result"
    }
   ],
   "source": [
    "posterior_mujer>posterior_hombre"
   ]
  },
  {
   "cell_type": "markdown",
   "metadata": {},
   "source": [
    "Notar que no hace falta calcular el denominador"
   ]
  },
  {
   "cell_type": "markdown",
   "metadata": {},
   "source": [
    "# Utilizando sklearn"
   ]
  },
  {
   "cell_type": "code",
   "execution_count": 42,
   "metadata": {
    "collapsed": true
   },
   "outputs": [],
   "source": [
    "from sklearn.naive_bayes import GaussianNB\n",
    "gnb = GaussianNB()\n",
    "y_pred = gnb.fit(GNB_features_matrix, GNB_labels)"
   ]
  },
  {
   "cell_type": "code",
   "execution_count": 43,
   "metadata": {},
   "outputs": [
    {
     "data": {
      "text/plain": [
       "array(['mujer'], \n",
       "      dtype='<U6')"
      ]
     },
     "execution_count": 43,
     "metadata": {},
     "output_type": "execute_result"
    }
   ],
   "source": [
    "y_pred.predict([sample])"
   ]
  },
  {
   "cell_type": "code",
   "execution_count": 44,
   "metadata": {},
   "outputs": [
    {
     "data": {
      "text/plain": [
       "array([[  1.16498139e-07,   9.99999884e-01]])"
      ]
     },
     "execution_count": 44,
     "metadata": {},
     "output_type": "execute_result"
    }
   ],
   "source": [
    "y_pred.predict_proba([sample])"
   ]
  }
 ],
 "metadata": {
  "kernelspec": {
   "display_name": "Python [default]",
   "language": "python",
   "name": "python3"
  },
  "language_info": {
   "codemirror_mode": {
    "name": "ipython",
    "version": 3
   },
   "file_extension": ".py",
   "mimetype": "text/x-python",
   "name": "python",
   "nbconvert_exporter": "python",
   "pygments_lexer": "ipython3",
   "version": "3.5.3"
  },
  "toc": {
   "colors": {
    "hover_highlight": "#DAA520",
    "navigate_num": "#000000",
    "navigate_text": "#333333",
    "running_highlight": "#FF0000",
    "selected_highlight": "#FFD700",
    "sidebar_border": "#EEEEEE",
    "wrapper_background": "#FFFFFF"
   },
   "moveMenuLeft": true,
   "nav_menu": {
    "height": "48px",
    "width": "252px"
   },
   "navigate_menu": true,
   "number_sections": true,
   "sideBar": false,
   "threshold": 4,
   "toc_cell": false,
   "toc_position": {
    "height": "295px",
    "left": "1px",
    "right": "20px",
    "top": "67px",
    "width": "212px"
   },
   "toc_section_display": "block",
   "toc_window_display": true,
   "widenNotebook": false
  }
 },
 "nbformat": 4,
 "nbformat_minor": 2
}

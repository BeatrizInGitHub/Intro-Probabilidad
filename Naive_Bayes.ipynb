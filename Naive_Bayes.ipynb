{
 "cells": [
  {
   "cell_type": "code",
   "execution_count": 1,
   "metadata": {},
   "outputs": [],
   "source": [
    "# Estos dos comandos evitan que haya que hacer reload cada vez que se modifica un paquete\n",
    "%load_ext autoreload\n",
    "%autoreload 2"
   ]
  },
  {
   "cell_type": "code",
   "execution_count": 2,
   "metadata": {
    "collapsed": true
   },
   "outputs": [],
   "source": [
    "import numpy as np\n",
    "from matplotlib import pyplot as plt\n",
    "from problema_1 import plot_bar_chart\n",
    "# Importo el paquete para graficar\n",
    "from matplotlib import pyplot as plt"
   ]
  },
  {
   "cell_type": "markdown",
   "metadata": {},
   "source": [
    "# Naive bayes - Clasificación\n",
    "http://scikit-learn.org/stable/modules/naive_bayes.html#naive-bayes"
   ]
  },
  {
   "cell_type": "markdown",
   "metadata": {},
   "source": [
    "![](./images/naive_bayes_graphs.png)"
   ]
  },
  {
   "cell_type": "markdown",
   "metadata": {},
   "source": [
    "$P(y|x_1,x_2,...,x_n) = \\large \\frac{P(y)P(x_1, x_2,...,x_n|y)}{P(x_1,x_2,...,x_n)} = \\frac{P(y, x_1, x_2,...,x_n)}{P(x_1,x_2,...,x_n)}$"
   ]
  },
  {
   "cell_type": "markdown",
   "metadata": {},
   "source": [
    "$P(x_1,x_2, x_3, y) = P(x_1 | x_2, x_3,y)P(x_2,x_3, y) = P(x_1 | x_2, x_3,y)P(x_2|x_3, y)P(x_3, y) = P(x_1 | x_2, x_3,y)P(x_2|x_3, y)P(x_3| y)P(y)$"
   ]
  },
  {
   "cell_type": "markdown",
   "metadata": {},
   "source": [
    "$P(comprar,oferta,ganaste,SPAM) = P(comprar | oferta, ganaste,SPAM)P(oferta|ganaste, SPAM)P(ganaste| SPAM)P(SPAM)$"
   ]
  },
  {
   "cell_type": "markdown",
   "metadata": {},
   "source": [
    "Asumiendo independencia\n",
    "\n",
    "$P(x_i/y) = P(x_i|y,x_1,...)$\n",
    "\n",
    "$P(comprar,oferta,ganaste,SPAM) = P(comprar | SPAM)P(oferta|SPAM)P(ganaste| SPAM)P(SPAM)$\n",
    "\n",
    "$P(y|x_1,x_2,...,x_n) = \\large \\frac{P(y)\\prod P(x_i/y)} {P(x_1,x_2,...,x_n)} = \\alpha {P(y)\\prod P(x_i/y)}$"
   ]
  },
  {
   "cell_type": "markdown",
   "metadata": {},
   "source": [
    "$\\hat{y} = arg max_y [{P(y)\\prod P(x_i/y)}]$"
   ]
  },
  {
   "cell_type": "markdown",
   "metadata": {},
   "source": [
    "## Detección de SPAM\n",
    "V. Metsis, I. Androutsopoulos and G. Paliouras (2006). Spam filtering with Naive Bayes – Which Naive Bayes? 3rd Conf. on Email and Anti-Spam (CEAS).\n",
    "http://citeseerx.ist.psu.edu/viewdoc/download;jsessionid=1EEA3C5EE5DDF8409BCC0F09BFB7D98B?doi=10.1.1.61.5542&rep=rep1&type=pdf\n",
    "\n",
    "Tenemos un dataset donde ya esta preprocesado el texto\n",
    "- Lemmatization\n",
    "- Stop words"
   ]
  },
  {
   "cell_type": "code",
   "execution_count": 10,
   "metadata": {},
   "outputs": [],
   "source": [
    "from sklearn.feature_extraction.text import CountVectorizer"
   ]
  },
  {
   "cell_type": "code",
   "execution_count": 11,
   "metadata": {
    "collapsed": true
   },
   "outputs": [],
   "source": [
    "import os\n",
    "from collections import Counter\n",
    "def make_Dictionary(train_dir):\n",
    "    emails_array = []\n",
    "    labels = []\n",
    "    emails = [os.path.join(train_dir,f) for f in os.listdir(train_dir)]    \n",
    "    all_words = []       \n",
    "    for mail in emails:    \n",
    "        with open(mail) as m:\n",
    "            if 'spmsg' in mail.split('/')[-1]:\n",
    "                labels.append(True)\n",
    "            else:\n",
    "                labels.append(False)\n",
    "            email_str = ''\n",
    "            for i,line in enumerate(m):\n",
    "                if i == 2:  #Body of email is only 3rd line of text file\n",
    "                    words = line.split()\n",
    "                    all_words += words\n",
    "                    email_str = email_str + ' ' + line\n",
    "            emails_array.append(email_str)\n",
    "    dictionary = Counter(all_words)\n",
    "    # Paste code for non-word removal here(code snippet is given below) \n",
    "    return dictionary, emails_array, labels\n",
    "\n",
    "def remove_uncommon_words(dictionary):\n",
    "    dict_copy = { k : v for k,v in dictionary.items()}\n",
    "    list_to_remove = dictionary.keys()\n",
    "\n",
    "    for item in list_to_remove:\n",
    "        if item.isalpha() == False: \n",
    "            del dict_copy[item]\n",
    "        elif len(item) == 1:\n",
    "            del dict_copy[item]\n",
    "    return Counter(dict_copy)"
   ]
  },
  {
   "cell_type": "code",
   "execution_count": 12,
   "metadata": {
    "collapsed": true
   },
   "outputs": [],
   "source": [
    "def read_emails_and_get_dict(folder, max_features=3000):\n",
    "    dictionary, emails_array, labels = make_Dictionary(folder)\n",
    "    dictionary = remove_uncommon_words(dictionary)\n",
    "    dictionary = dictionary.most_common(max_features)\n",
    "    vocabulary = [key[0] for key in dictionary]\n",
    "    return vocabulary, emails_array, np.array(labels)"
   ]
  },
  {
   "cell_type": "code",
   "execution_count": 13,
   "metadata": {
    "collapsed": true
   },
   "outputs": [],
   "source": [
    "max_features = 3000"
   ]
  },
  {
   "cell_type": "code",
   "execution_count": 14,
   "metadata": {},
   "outputs": [],
   "source": [
    "vocabulary, emails_array, labels = read_emails_and_get_dict('./ling-spam/train-mails', max_features)\n",
    "count_vectorizer = CountVectorizer(vocabulary=vocabulary)\n",
    "feature_matrix = count_vectorizer.fit_transform(emails_array)"
   ]
  },
  {
   "cell_type": "code",
   "execution_count": 15,
   "metadata": {},
   "outputs": [
    {
     "name": "stdout",
     "output_type": "stream",
     "text": [
      "SPAM: 351 HAM: 351 total: 702\n",
      "\n",
      "Palabras diferentes\n",
      "SPAM: 49126 HAM: 33482\n",
      "\n",
      "Cantidad de palabras\n",
      "SPAM: 97941 HAM: 57052\n"
     ]
    }
   ],
   "source": [
    "def get_histogram_from_matrix(alpha, feature_matrix):\n",
    "    words_distribution_un = feature_matrix.sum(axis=0) + alpha\n",
    "    words_distribution = words_distribution_un/(words_distribution_un.sum()+alpha*feature_matrix.shape[1])\n",
    "    return words_distribution\n",
    "\n",
    "spam_feature_matrix = feature_matrix[labels,:]\n",
    "ham_feature_matrix = feature_matrix[np.logical_not(labels),:]\n",
    "\n",
    "print('SPAM:',labels.nonzero()[0].shape[0],\n",
    "      'HAM:',np.logical_not(labels).nonzero()[0].shape[0],\n",
    "      'total:',len(labels))\n",
    "\n",
    "print()\n",
    "print('Palabras diferentes')\n",
    "print('SPAM:', spam_feature_matrix.nonzero()[0].shape[0],\n",
    "      'HAM:',ham_feature_matrix.nonzero()[0].shape[0])\n",
    "\n",
    "print()\n",
    "print('Cantidad de palabras')\n",
    "print('SPAM:',spam_feature_matrix.sum(), 'HAM:',ham_feature_matrix.sum())\n",
    "\n",
    "\n",
    "\n",
    "spam_words_distribution = get_histogram_from_matrix(1, spam_feature_matrix)\n",
    "ham_words_distribution = get_histogram_from_matrix(1, ham_feature_matrix)"
   ]
  },
  {
   "cell_type": "code",
   "execution_count": 16,
   "metadata": {},
   "outputs": [
    {
     "data": {
      "image/png": "[encoded data removed]",
      "text/plain": [
       "<matplotlib.figure.Figure at 0x111e55160>"
      ]
     },
     "metadata": {},
     "output_type": "display_data"
    },
    {
     "data": {
      "image/png": "[encoded data removed]",
      "text/plain": [
       "<matplotlib.figure.Figure at 0x111eaba90>"
      ]
     },
     "metadata": {},
     "output_type": "display_data"
    }
   ],
   "source": [
    "N = 20\n",
    "plot_bar_chart(np.array(spam_words_distribution)[0][:N], title='SPAM', index_str='%s')\n",
    "plot_bar_chart(np.array(ham_words_distribution)[0][:N], title='HAM', index_str='%s')"
   ]
  },
  {
   "cell_type": "markdown",
   "metadata": {},
   "source": [
    "$\\hat{y} = arg max_y [{P(y)\\prod P(x_i/y)}]$\n",
    "\n",
    "$y = [SPAM, HAM]$"
   ]
  },
  {
   "cell_type": "code",
   "execution_count": 17,
   "metadata": {},
   "outputs": [
    {
     "name": "stdout",
     "output_type": "stream",
     "text": [
      "  (0, 5)\t1\n",
      "  (0, 9)\t1\n",
      "  (0, 11)\t4\n",
      "  (0, 22)\t1\n",
      "  (0, 37)\t1\n",
      "  (0, 42)\t1\n",
      "  (0, 47)\t1\n",
      "  (0, 51)\t1\n",
      "  (0, 57)\t1\n",
      "  (0, 116)\t1\n",
      "  (0, 118)\t1\n",
      "  (0, 140)\t1\n",
      "  (0, 143)\t1\n",
      "  (0, 207)\t1\n",
      "  (0, 260)\t1\n",
      "  (0, 273)\t1\n",
      "  (0, 289)\t1\n",
      "  (0, 298)\t1\n",
      "  (0, 318)\t3\n",
      "  (0, 337)\t1\n",
      "  (0, 375)\t1\n",
      "  (0, 384)\t1\n",
      "  (0, 430)\t1\n",
      "  (0, 453)\t1\n",
      "  (0, 470)\t2\n",
      "  (0, 476)\t3\n",
      "  (0, 605)\t1\n",
      "  (0, 641)\t2\n",
      "  (0, 692)\t1\n",
      "  (0, 701)\t1\n",
      "  (0, 912)\t1\n",
      "  (0, 938)\t1\n",
      "  (0, 939)\t2\n",
      "  (0, 969)\t1\n",
      "  (0, 1032)\t1\n",
      "  (0, 1033)\t1\n",
      "  (0, 1212)\t2\n",
      "  (0, 1480)\t1\n",
      "  (0, 1531)\t1\n",
      "  (0, 1612)\t1\n",
      "  (0, 1650)\t1\n",
      "  (0, 1720)\t1\n",
      "  (0, 2081)\t1\n",
      "  (0, 2209)\t1\n",
      "  (0, 2344)\t1\n",
      "  (0, 2661)\t3\n",
      "(array([0, 0, 0, 0, 0, 0, 0, 0, 0, 0, 0, 0, 0, 0, 0, 0, 0, 0, 0, 0, 0, 0, 0,\n",
      "       0, 0, 0, 0, 0, 0, 0, 0, 0, 0, 0, 0, 0, 0, 0, 0, 0, 0, 0, 0, 0, 0, 0], dtype=int32), array([   5,    9,   11,   22,   37,   42,   47,   51,   57,  116,  118,\n",
      "        140,  143,  207,  260,  273,  289,  298,  318,  337,  375,  384,\n",
      "        430,  453,  470,  476,  605,  641,  692,  701,  912,  938,  939,\n",
      "        969, 1032, 1033, 1212, 1480, 1531, 1612, 1650, 1720, 2081, 2209,\n",
      "       2344, 2661], dtype=int32))\n",
      "8.25153870547e-258\n",
      "1.85284585102e-271\n",
      "-591.9565543\n",
      "-623.383837446\n"
     ]
    }
   ],
   "source": [
    "row = feature_matrix[0,:]\n",
    "print(row)\n",
    "non_zero_row = row.nonzero()\n",
    "print(non_zero_row)\n",
    "print(spam_words_distribution[0, non_zero_row].prod())\n",
    "print(ham_words_distribution[0, non_zero_row].prod())\n",
    "print(np.log(spam_words_distribution[0, non_zero_row]).sum())\n",
    "print(np.log(ham_words_distribution[0, non_zero_row]).sum())"
   ]
  },
  {
   "cell_type": "code",
   "execution_count": 18,
   "metadata": {
    "collapsed": true
   },
   "outputs": [],
   "source": [
    "def get_accuracy(feature_matrix, labels, spam_words_distribution, ham_words_distribution):\n",
    "    P_SPAM = labels.nonzero()[0].shape[0]/len(labels) # Por que no es necesario en este caso?\n",
    "    P_HAM = np.logical_not(labels).nonzero()[0].shape[0]/len(labels) # Por que no es necesario en este caso?\n",
    "    correct_count = 0\n",
    "    smooth = 0.0000000000001\n",
    "    for i, row in enumerate(feature_matrix):\n",
    "        coded_email = row.nonzero()\n",
    "        spam_log_likelihood = np.log(spam_words_distribution[coded_email]).sum() + np.log(P_SPAM)\n",
    "        ham_log_likelihood = np.log(ham_words_distribution[coded_email]).sum() + np.log(P_HAM)\n",
    "        SPAM = spam_log_likelihood>ham_log_likelihood\n",
    "        if SPAM == labels[i]:\n",
    "            correct_count = correct_count + 1\n",
    "    print('%0.3f'%(correct_count/len(labels)))"
   ]
  },
  {
   "cell_type": "code",
   "execution_count": 19,
   "metadata": {},
   "outputs": [
    {
     "name": "stdout",
     "output_type": "stream",
     "text": [
      "0.989\n"
     ]
    }
   ],
   "source": [
    "get_accuracy(feature_matrix, labels, spam_words_distribution, ham_words_distribution)"
   ]
  },
  {
   "cell_type": "markdown",
   "metadata": {},
   "source": [
    "## Test set"
   ]
  },
  {
   "cell_type": "code",
   "execution_count": 20,
   "metadata": {
    "collapsed": true
   },
   "outputs": [],
   "source": [
    "_, emails_array, labels_test = read_emails_and_get_dict('./ling-spam/test-mails', max_features)\n",
    "count_vectorizer_test = CountVectorizer(vocabulary=vocabulary)\n",
    "feature_matrix_test = count_vectorizer.fit_transform(emails_array)"
   ]
  },
  {
   "cell_type": "code",
   "execution_count": 21,
   "metadata": {},
   "outputs": [
    {
     "name": "stdout",
     "output_type": "stream",
     "text": [
      "0.965\n"
     ]
    }
   ],
   "source": [
    "get_accuracy(feature_matrix_test, labels_test, spam_words_distribution, ham_words_distribution)"
   ]
  },
  {
   "cell_type": "markdown",
   "metadata": {},
   "source": [
    "# sklearn"
   ]
  },
  {
   "cell_type": "code",
   "execution_count": 22,
   "metadata": {
    "collapsed": true
   },
   "outputs": [],
   "source": [
    "from sklearn.naive_bayes import MultinomialNB"
   ]
  },
  {
   "cell_type": "code",
   "execution_count": 23,
   "metadata": {
    "collapsed": true
   },
   "outputs": [],
   "source": [
    "clf = MultinomialNB(alpha=1)"
   ]
  },
  {
   "cell_type": "code",
   "execution_count": 24,
   "metadata": {},
   "outputs": [
    {
     "data": {
      "text/plain": [
       "MultinomialNB(alpha=1, class_prior=None, fit_prior=True)"
      ]
     },
     "execution_count": 24,
     "metadata": {},
     "output_type": "execute_result"
    }
   ],
   "source": [
    "clf.fit(feature_matrix, labels)"
   ]
  },
  {
   "cell_type": "code",
   "execution_count": 25,
   "metadata": {},
   "outputs": [
    {
     "data": {
      "text/plain": [
       "0.99002849002849003"
      ]
     },
     "execution_count": 25,
     "metadata": {},
     "output_type": "execute_result"
    }
   ],
   "source": [
    "clf.score(feature_matrix, labels)"
   ]
  },
  {
   "cell_type": "code",
   "execution_count": 26,
   "metadata": {},
   "outputs": [
    {
     "data": {
      "text/plain": [
       "0.96153846153846156"
      ]
     },
     "execution_count": 26,
     "metadata": {},
     "output_type": "execute_result"
    }
   ],
   "source": [
    "clf.score(feature_matrix_test, labels_test)"
   ]
  },
  {
   "cell_type": "markdown",
   "metadata": {},
   "source": [
    "# ¿Es posible graficar un problema de dimensión 3000 en 2 dimensiones?"
   ]
  },
  {
   "cell_type": "code",
   "execution_count": 27,
   "metadata": {
    "collapsed": true
   },
   "outputs": [],
   "source": [
    "from sklearn.manifold import TSNE\n",
    "from sklearn.decomposition import TruncatedSVD\n",
    "fmd = feature_matrix.todense()\n",
    "svd = TruncatedSVD(n_components=8, n_iter=200, random_state=42)\n",
    "svd.fit(fmd.T)\n",
    "X_embedded = TSNE(n_components=2).fit_transform(svd.components_.T)"
   ]
  },
  {
   "cell_type": "code",
   "execution_count": 28,
   "metadata": {},
   "outputs": [
    {
     "data": {
      "image/png": "[encoded data removed]",
      "text/plain": [
       "<matplotlib.figure.Figure at 0x1121785f8>"
      ]
     },
     "metadata": {},
     "output_type": "display_data"
    }
   ],
   "source": [
    "plt.figure(figsize=(20,10))\n",
    "plt.scatter(X_embedded[labels,0], X_embedded[labels,1], color='b', s=10)\n",
    "plt.scatter(X_embedded[np.logical_not(labels),0], X_embedded[np.logical_not(labels),1], color='r', s=10)\n",
    "plt.show()"
   ]
  },
  {
   "cell_type": "markdown",
   "metadata": {},
   "source": [
    "# Gaussian NB\n",
    "https://en.wikipedia.org/wiki/Naive_Bayes_classifier#Sex_classification"
   ]
  },
  {
   "cell_type": "code",
   "execution_count": 29,
   "metadata": {
    "collapsed": true
   },
   "outputs": [],
   "source": [
    "# Datos originales de wikipedia\n",
    "data = [\n",
    "    {\"genero\":'hombre', 'altura': 6, 'peso': 180,'pie':12}, \n",
    "    {\"genero\":'hombre', 'altura': 5.92, 'peso': 190,'pie':11}, \n",
    "    {\"genero\":'hombre', 'altura': 5.58, 'peso': 170,'pie':12}, \n",
    "    {\"genero\":'hombre', 'altura': 5.92, 'peso': 165,'pie':10}, \n",
    "    {\"genero\":'mujer', 'altura': 5, 'peso': 100,'pie':6}, \n",
    "    {\"genero\":'mujer', 'altura': 5.5, 'peso': 150,'pie':8}, \n",
    "    {\"genero\":'mujer', 'altura': 5.42, 'peso': 130,'pie':7}, \n",
    "    {\"genero\":'mujer', 'altura': 5.75, 'peso': 150,'pie':9}, \n",
    "]"
   ]
  },
  {
   "cell_type": "code",
   "execution_count": 30,
   "metadata": {
    "collapsed": true
   },
   "outputs": [],
   "source": [
    "data = [{'altura': 183, 'genero': 'hombre', 'peso': 82, 'pie': 12},\n",
    "         {'altura': 180, 'genero': 'hombre', 'peso': 86, 'pie': 11},\n",
    "         {'altura': 170,'genero': 'hombre','peso': 77,'pie': 12},\n",
    "         {'altura': 180, 'genero': 'hombre', 'peso': 75, 'pie': 10},\n",
    "         {'altura': 152, 'genero': 'mujer', 'peso': 45, 'pie': 6},\n",
    "         {'altura': 167, 'genero': 'mujer', 'peso': 68, 'pie': 8},\n",
    "         {'altura': 165, 'genero': 'mujer', 'peso': 59, 'pie': 7},\n",
    "         {'altura': 175, 'genero': 'mujer', 'peso': 68, 'pie': 9}]"
   ]
  },
  {
   "cell_type": "code",
   "execution_count": 31,
   "metadata": {},
   "outputs": [
    {
     "name": "stdout",
     "output_type": "stream",
     "text": [
      "[[ 0.  0.  0.]\n",
      " [ 0.  0.  0.]\n",
      " [ 0.  0.  0.]\n",
      " [ 0.  0.  0.]\n",
      " [ 0.  0.  0.]\n",
      " [ 0.  0.  0.]\n",
      " [ 0.  0.  0.]\n",
      " [ 0.  0.  0.]]\n",
      "[None None None None None None None None]\n",
      "[[ 183.   82.   12.]\n",
      " [ 180.   86.   11.]\n",
      " [ 170.   77.   12.]\n",
      " [ 180.   75.   10.]\n",
      " [ 152.   45.    6.]\n",
      " [ 167.   68.    8.]\n",
      " [ 165.   59.    7.]\n",
      " [ 175.   68.    9.]]\n",
      "['hombre' 'hombre' 'hombre' 'hombre' 'mujer' 'mujer' 'mujer' 'mujer']\n"
     ]
    }
   ],
   "source": [
    "GNB_features_matrix = np.zeros((len(data),3))\n",
    "GNB_labels = np.empty((len(data)), dtype=object)\n",
    "print(GNB_features_matrix)\n",
    "print(GNB_labels)\n",
    "\n",
    "for i, person in enumerate(data):\n",
    "    GNB_features_matrix[i, 0] = person['altura']\n",
    "    GNB_features_matrix[i, 1] = person['peso']\n",
    "    GNB_features_matrix[i, 2] = person['pie']\n",
    "    GNB_labels[i] = person['genero']\n",
    "print(GNB_features_matrix)\n",
    "print(GNB_labels)"
   ]
  },
  {
   "cell_type": "code",
   "execution_count": 32,
   "metadata": {},
   "outputs": [
    {
     "name": "stdout",
     "output_type": "stream",
     "text": [
      "medias de los hombres: [ 178.25   80.     11.25]\n",
      "varianzas de los hombres: [ 32.25        24.66666667   0.91666667]\n",
      "medias de las mujeres: [ 164.75   60.      7.5 ]\n",
      "varianzas de las mujeres: [  90.91666667  118.            1.66666667]\n"
     ]
    }
   ],
   "source": [
    "men_means = GNB_features_matrix[GNB_labels=='hombre',:].mean(axis=0)\n",
    "women_means = GNB_features_matrix[GNB_labels=='mujer',:].mean(axis=0)\n",
    "men_vars = GNB_features_matrix[GNB_labels=='hombre',:].var(axis=0, ddof=1)\n",
    "women_vars = GNB_features_matrix[GNB_labels=='mujer',:].var(axis=0, ddof=1)\n",
    "print('medias de los hombres:', men_means)\n",
    "print('varianzas de los hombres:', men_vars)\n",
    "print('medias de las mujeres:', women_means)\n",
    "print('varianzas de las mujeres:', women_vars)"
   ]
  },
  {
   "cell_type": "code",
   "execution_count": 33,
   "metadata": {
    "collapsed": true
   },
   "outputs": [],
   "source": [
    "#sample = np.array([6,130,8])\n",
    "sample = np.array([6*30.48,130*0.453592,8])"
   ]
  },
  {
   "cell_type": "code",
   "execution_count": 34,
   "metadata": {
    "collapsed": true
   },
   "outputs": [],
   "source": [
    "def gaussian(x, mu, sig):\n",
    "    return np.exp(-np.power((x - mu)/sig, 2.)/2)/(np.sqrt(2.*np.pi)*sig)\n",
    "\n",
    "def plot_gaussian(mu=0, sig= 1, points = 200, N = 2, marker=None, label = None, x = None, color = None, \n",
    "                  x_label='',y_label='',ax = None, figsize = (20,10), center_label_tick = None):\n",
    "    if ax is None:\n",
    "        f, ax = plt.subplots(1, 1, sharey=True, sharex=True, figsize = figsize)\n",
    "    if x is None:\n",
    "        x = np.linspace(mu-N*sig, mu+N*sig, points)\n",
    "    y = gaussian(x, mu, sig)\n",
    "    ax.plot(x,y, marker = marker, label = label, color = color)\n",
    "    ax.set_ylabel(y_label)\n",
    "    ax.set_xlabel(x_label)\n",
    "\n",
    "    if center_label_tick is not None:\n",
    "        labels = [item.get_text() for item in ax.get_xticklabels()]\n",
    "        labels[int((len(labels)-1)/2)] = center_label_tick\n",
    "        ax.set_xticklabels(labels)\n",
    "\n",
    "    return x, y"
   ]
  },
  {
   "cell_type": "code",
   "execution_count": 35,
   "metadata": {},
   "outputs": [
    {
     "data": {
      "image/png": "[encoded data removed]",
      "text/plain": [
       "<matplotlib.figure.Figure at 0x11207d400>"
      ]
     },
     "metadata": {},
     "output_type": "display_data"
    }
   ],
   "source": [
    "f, axs = plt.subplots(3, 1, sharey=False, sharex=False, figsize = (20,8))\n",
    "keys = ['altura', 'peso','pie']\n",
    "for i, ax in enumerate(axs):\n",
    "    plot_gaussian(men_means[i], np.sqrt(men_vars[i]), ax=ax, N=10, color='b', label='hombre')\n",
    "    plot_gaussian(women_means[i], np.sqrt(women_vars[i]), ax=ax, N=4, color='g', label='mujer')\n",
    "    ax.scatter(sample[i], gaussian(sample[i], men_means[i], np.sqrt(men_vars[i])), color='b')\n",
    "    ax.scatter(sample[i], gaussian(sample[i], women_means[i], np.sqrt(women_vars[i])), color='g')\n",
    "    ax.title.set_text(keys[i])\n",
    "    ax.legend()\n",
    "plt.show()"
   ]
  },
  {
   "cell_type": "code",
   "execution_count": 36,
   "metadata": {},
   "outputs": [
    {
     "name": "stdout",
     "output_type": "stream",
     "text": [
      "3.38329394047e-10\n"
     ]
    }
   ],
   "source": [
    "p_hombre = len(GNB_features_matrix[GNB_labels=='hombre',:])/len(GNB_features_matrix)\n",
    "p_altura_hombre = gaussian(sample[0], men_means[0], np.sqrt(men_vars[0]))\n",
    "p_peso_hombre = gaussian(sample[1], men_means[1], np.sqrt(men_vars[1]))\n",
    "p_pie_hombre = gaussian(sample[2], men_means[2], np.sqrt(men_vars[2]))\n",
    "posterior_hombre = p_hombre*p_altura_hombre*p_peso_hombre*p_pie_hombre\n",
    "print(posterior_hombre)"
   ]
  },
  {
   "cell_type": "code",
   "execution_count": 37,
   "metadata": {},
   "outputs": [
    {
     "name": "stdout",
     "output_type": "stream",
     "text": [
      "3.59675362977e-05\n"
     ]
    }
   ],
   "source": [
    "p_mujer = len(GNB_features_matrix[GNB_labels=='hombre',:])/len(GNB_features_matrix)\n",
    "p_altura_mujer = gaussian(sample[0], women_means[0], np.sqrt(women_vars[0]))\n",
    "p_peso_mujer = gaussian(sample[1], women_means[1], np.sqrt(women_vars[1]))\n",
    "p_pie_mujer = gaussian(sample[2], women_means[2], np.sqrt(women_vars[2]))\n",
    "posterior_mujer = p_mujer*p_altura_mujer*p_peso_mujer*p_pie_mujer\n",
    "print(posterior_mujer)"
   ]
  },
  {
   "cell_type": "code",
   "execution_count": 38,
   "metadata": {},
   "outputs": [
    {
     "data": {
      "text/plain": [
       "True"
      ]
     },
     "execution_count": 38,
     "metadata": {},
     "output_type": "execute_result"
    }
   ],
   "source": [
    "posterior_mujer>posterior_hombre"
   ]
  },
  {
   "cell_type": "markdown",
   "metadata": {},
   "source": [
    "Notar que no hace falta calcular el denominador"
   ]
  },
  {
   "cell_type": "markdown",
   "metadata": {},
   "source": [
    "# Utilizando sklearn"
   ]
  },
  {
   "cell_type": "code",
   "execution_count": 39,
   "metadata": {
    "collapsed": true
   },
   "outputs": [],
   "source": [
    "from sklearn.naive_bayes import GaussianNB\n",
    "gnb = GaussianNB()\n",
    "y_pred = gnb.fit(GNB_features_matrix, GNB_labels)"
   ]
  },
  {
   "cell_type": "code",
   "execution_count": 40,
   "metadata": {},
   "outputs": [
    {
     "data": {
      "text/plain": [
       "array(['mujer'],\n",
       "      dtype='<U6')"
      ]
     },
     "execution_count": 40,
     "metadata": {},
     "output_type": "execute_result"
    }
   ],
   "source": [
    "y_pred.predict([sample])"
   ]
  },
  {
   "cell_type": "code",
   "execution_count": 41,
   "metadata": {},
   "outputs": [
    {
     "data": {
      "text/plain": [
       "array([[  1.16498139e-07,   9.99999884e-01]])"
      ]
     },
     "execution_count": 41,
     "metadata": {},
     "output_type": "execute_result"
    }
   ],
   "source": [
    "y_pred.predict_proba([sample])"
   ]
  },
  {
   "cell_type": "markdown",
   "metadata": {},
   "source": [
    "## Problema 2\n",
    "Utilizando las siguientes funciones/paquetes resolver los siguientes problemas de clasificación en **problema_2.py**:\n",
    "\n",
    "**genfromtxt** de **numpy** para leer los dos datasets:\n",
    "- ./datasets/student_admission.txt\n",
    "- ./datasets/chip_tests.txt\n",
    "\n",
    "**train_test_split** de **sklearn** para dividir entre test set y train set. Recomendamos un 40% de datos para test set\n",
    "\n",
    "**GaussianNB** de **sklearn** como modelo de ML.\n",
    "\n",
    "Y la función **plot_boundaries(X_train, X_test, y_train, y_test, score, predict_proba, ax=ax, h=h)** incluida en problema_2.py para graficar los resultados. X_train es un np.array con los features de entrada, y_train es la etiqueta. Lo mismo con X_test e y_test, Score es el 'accuracy' del modelo, predict_proba es la función que dada una entrada de la probabilidad de clasificar correcto y h es el paso para la grafica del 'boundary'"
   ]
  },
  {
   "cell_type": "code",
   "execution_count": null,
   "metadata": {
    "collapsed": true
   },
   "outputs": [],
   "source": []
  },
  {
   "cell_type": "code",
   "execution_count": null,
   "metadata": {
    "collapsed": true
   },
   "outputs": [],
   "source": []
  }
 ],
 "metadata": {
  "kernelspec": {
   "display_name": "Python [conda env:mllab]",
   "language": "python",
   "name": "conda-env-mllab-py"
  },
  "language_info": {
   "codemirror_mode": {
    "name": "ipython",
    "version": 3
   },
   "file_extension": ".py",
   "mimetype": "text/x-python",
   "name": "python",
   "nbconvert_exporter": "python",
   "pygments_lexer": "ipython3",
   "version": "3.6.2"
  },
  "toc": {
   "colors": {
    "hover_highlight": "#DAA520",
    "navigate_num": "#000000",
    "navigate_text": "#333333",
    "running_highlight": "#FF0000",
    "selected_highlight": "#FFD700",
    "sidebar_border": "#EEEEEE",
    "wrapper_background": "#FFFFFF"
   },
   "moveMenuLeft": true,
   "nav_menu": {
    "height": "48px",
    "width": "252px"
   },
   "navigate_menu": true,
   "number_sections": true,
   "sideBar": false,
   "threshold": 4,
   "toc_cell": false,
   "toc_position": {
    "height": "295px",
    "left": "1px",
    "right": "20px",
    "top": "67px",
    "width": "212px"
   },
   "toc_section_display": "block",
   "toc_window_display": false,
   "widenNotebook": false
  }
 },
 "nbformat": 4,
 "nbformat_minor": 2
}
